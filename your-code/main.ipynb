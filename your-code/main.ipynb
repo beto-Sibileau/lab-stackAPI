{
 "cells": [
  {
   "cell_type": "markdown",
   "metadata": {},
   "source": [
    "# StackAPI\n",
    "\n",
    "#### Import the necessary libraries here:"
   ]
  },
  {
   "cell_type": "code",
   "execution_count": 1,
   "metadata": {},
   "outputs": [],
   "source": [
    "# your code here\n",
    "import requests\n",
    "import json\n",
    "import pandas as pd\n",
    "from stackapi import StackAPI\n",
    "import datetime as dt"
   ]
  },
  {
   "cell_type": "markdown",
   "metadata": {},
   "source": [
    "#### Question 1: Find the questions and answers of last month."
   ]
  },
  {
   "cell_type": "code",
   "execution_count": 2,
   "metadata": {},
   "outputs": [],
   "source": [
    "# your code here\n",
    "SITE = StackAPI('stackoverflow')\n",
    "iniDate = dt.date(2020,3,1)\n",
    "endDate = dt.date(2020,3,31)\n",
    "questions_march_2020 = SITE.fetch('questions', fromdate=iniDate, todate=endDate)\n",
    "answers_march_2020 = SITE.fetch('answers', fromdate=iniDate, todate=endDate)"
   ]
  },
  {
   "cell_type": "code",
   "execution_count": 3,
   "metadata": {},
   "outputs": [],
   "source": [
    "# function for indented printing (dictionary or json type variables)\n",
    "def pprint(json_var):\n",
    "    print(json.dumps(json_var, indent=4, sort_keys=True))"
   ]
  },
  {
   "cell_type": "markdown",
   "metadata": {},
   "source": [
    "#### Question 2: Find the most voted question today with at least a score of 5 and tagged with 'python'. "
   ]
  },
  {
   "cell_type": "code",
   "execution_count": 4,
   "metadata": {},
   "outputs": [
    {
     "name": "stdout",
     "output_type": "stream",
     "text": [
      "dict_keys(['backoff', 'has_more', 'page', 'quota_max', 'quota_remaining', 'total', 'items'])\n",
      "\n",
      "The question with highest score (42), tagged with Python from date: 2020-04-14 is:\n",
      "\n",
      "Why do I get this many iterations when adding to and removing from a set while iterating over it?\n",
      "\n",
      "The question_id is: 61213866\n"
     ]
    }
   ],
   "source": [
    "# your code here\n",
    "# initial date is set as yesterday\n",
    "iniDate = dt.date(2020,4,14)\n",
    "questions_python_today = SITE.fetch('questions', fromdate=iniDate, min=5, tagged='python', sort='votes')\n",
    "#pprint(questions_python_today)\n",
    "\n",
    "# dictionary has 7 different keys. Content is actually in 'items' key\n",
    "print(questions_python_today.keys())\n",
    "\n",
    "# questions_python_today is sorted by score, thus I point to first element in 'items'\n",
    "highScoreQuestion = questions_python_today['items'][0]\n",
    "#pprint(highScoreQuestion)\n",
    "\n",
    "# Answer below\n",
    "print(f\"\\nThe question with highest score ({highScoreQuestion['score']}), tagged with Python \\\n",
    "from date: {iniDate} is:\\n\\n{highScoreQuestion['title']}\\n\\nThe question_id is: {highScoreQuestion['question_id']}\")"
   ]
  },
  {
   "cell_type": "markdown",
   "metadata": {},
   "source": [
    "#### Question 3: Find the answers with id 6784 and 6473."
   ]
  },
  {
   "cell_type": "code",
   "execution_count": 5,
   "metadata": {},
   "outputs": [
    {
     "name": "stdout",
     "output_type": "stream",
     "text": [
      "There's only 1 answer retrieved with ID: 6784\n"
     ]
    }
   ],
   "source": [
    "# your code here\n",
    "answersById = SITE.fetch('answers', ids=[6784, 6473])\n",
    "#pprint(answersById)\n",
    "\n",
    "answerItems = answersById['items']\n",
    "\n",
    "print(f\"There's only {len(answerItems)} answer retrieved with ID: {answerItems[0]['answer_id']}\")\n"
   ]
  }
 ],
 "metadata": {
  "kernelspec": {
   "display_name": "Python 3",
   "language": "python",
   "name": "python3"
  },
  "language_info": {
   "codemirror_mode": {
    "name": "ipython",
    "version": 3
   },
   "file_extension": ".py",
   "mimetype": "text/x-python",
   "name": "python",
   "nbconvert_exporter": "python",
   "pygments_lexer": "ipython3",
   "version": "3.7.6"
  }
 },
 "nbformat": 4,
 "nbformat_minor": 2
}
